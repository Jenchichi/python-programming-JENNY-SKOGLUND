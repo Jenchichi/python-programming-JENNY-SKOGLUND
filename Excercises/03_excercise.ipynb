{
 "cells": [
  {
   "cell_type": "code",
   "execution_count": 1,
   "metadata": {},
   "outputs": [
    {
     "name": "stdout",
     "output_type": "stream",
     "text": [
      "-10 -9 -8 -7 -6 -5 -4 -3 -2 -1 0 1 2 3 4 5 6 7 8 9 10 "
     ]
    }
   ],
   "source": [
    "# Övning 1a)\n",
    "\n",
    "for i in range(-10, 11):\n",
    "    print(i, end=\" \")\n"
   ]
  },
  {
   "cell_type": "code",
   "execution_count": 2,
   "metadata": {},
   "outputs": [
    {
     "name": "stdout",
     "output_type": "stream",
     "text": [
      "-10 -8 -6 -4 -2 0 2 4 6 8 10 "
     ]
    }
   ],
   "source": [
    "# Övning 1b)\n",
    "\n",
    "for i in range(-10, 11, 2):\n",
    "    print(i,end=\" \")"
   ]
  },
  {
   "cell_type": "code",
   "execution_count": 20,
   "metadata": {},
   "outputs": [
    {
     "name": "stdout",
     "output_type": "stream",
     "text": [
      "1 + 3 + 6 + 10 + 15 + 21 + 28 + 36 + 45 + 55 + 66 + 78 + 91 + 105 + 120 + 136 + 153 + 171 + 190 + 210 + 231 + 253 + 276 + 300 + 325 + 351 + 378 + 406 + 435 + 465 + 496 + 528 + 561 + 595 + 630 + 666 + 703 + 741 + 780 + 820 + 861 + 903 + 946 + 990 + 1035 + 1081 + 1128 + 1176 + 1225 + 1275 + 1326 + 1378 + 1431 + 1485 + 1540 + 1596 + 1653 + 1711 + 1770 + 1830 + 1891 + 1953 + 2016 + 2080 + 2145 + 2211 + 2278 + 2346 + 2415 + 2485 + 2556 + 2628 + 2701 + 2775 + 2850 + 2926 + 3003 + 3081 + 3160 + 3240 + 3321 + 3403 + 3486 + 3570 + 3655 + 3741 + 3828 + 3916 + 4005 + 4095 + 4186 + 4278 + 4371 + 4465 + 4560 + 4656 + 4753 + 4851 + 4950 + 5050 + "
     ]
    }
   ],
   "source": [
    "# Övning 1a)\n",
    "\n",
    "sum = 0\n",
    "for i in range(1, 101):\n",
    "    sum += i\n",
    "    print(sum, end=\" + \")"
   ]
  },
  {
   "cell_type": "code",
   "execution_count": 21,
   "metadata": {},
   "outputs": [
    {
     "name": "stdout",
     "output_type": "stream",
     "text": [
      "1 + 4 + 9 + 16 + 25 + 36 + 49 + 64 + 81 + 100 + 121 + 144 + 169 + 196 + 225 + 256 + 289 + 324 + 361 + 400 + 441 + 484 + 529 + 576 + 625 + 676 + 729 + 784 + 841 + 900 + 961 + 1024 + 1089 + 1156 + 1225 + 1296 + 1369 + 1444 + 1521 + 1600 + 1681 + 1764 + 1849 + 1936 + 2025 + 2116 + 2209 + 2304 + 2401 + 2500 + "
     ]
    }
   ],
   "source": [
    "# Övning 2b)\n",
    "\n",
    "sum = 0\n",
    "for i in range(1, 101, 2):\n",
    "    sum += i\n",
    "    print(sum, end=\" + \")"
   ]
  },
  {
   "cell_type": "code",
   "execution_count": 32,
   "metadata": {},
   "outputs": [
    {
     "name": "stdout",
     "output_type": "stream",
     "text": [
      "6 x 1 = 6\n",
      "6 x 2 = 12\n",
      "6 x 3 = 18\n",
      "6 x 4 = 24\n",
      "6 x 5 = 30\n",
      "6 x 6 = 36\n",
      "6 x 7 = 42\n",
      "6 x 8 = 48\n",
      "6 x 9 = 54\n",
      "6 x 10 = 60\n"
     ]
    }
   ],
   "source": [
    "# Övning 3a)\n",
    "\n",
    "sum = 6\n",
    "for i in range(1, 11):\n",
    "    print(sum, 'x', i, '=', sum*i)"
   ]
  },
  {
   "cell_type": "code",
   "execution_count": 57,
   "metadata": {},
   "outputs": [
    {
     "name": "stdout",
     "output_type": "stream",
     "text": [
      "Your 6 multiplikationtable from 1 to 10:\n",
      "6 12 18 24 30 36 42 48 54 60 "
     ]
    }
   ],
   "source": [
    "# Övning 3b)\n",
    "multiplikation = int(input(f\"Please enter what multiplikation table you want to calculate?: \"))\n",
    "start = int(input(f\"Please choose your start: \"))\n",
    "end = int(input(f\"Please choose your end: \"))\n",
    "\n",
    "print(f\"Your {multiplikation} multiplikationtable from {start} to {end}:\")\n",
    "\n",
    "for i in range(start, end+1):\n",
    "    print(multiplikation*i, end=\" \")"
   ]
  }
 ],
 "metadata": {
  "kernelspec": {
   "display_name": ".venv",
   "language": "python",
   "name": "python3"
  },
  "language_info": {
   "codemirror_mode": {
    "name": "ipython",
    "version": 3
   },
   "file_extension": ".py",
   "mimetype": "text/x-python",
   "name": "python",
   "nbconvert_exporter": "python",
   "pygments_lexer": "ipython3",
   "version": "3.12.6"
  }
 },
 "nbformat": 4,
 "nbformat_minor": 2
}
