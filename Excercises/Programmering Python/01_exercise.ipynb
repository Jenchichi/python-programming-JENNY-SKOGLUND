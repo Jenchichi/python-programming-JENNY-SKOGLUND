{
 "cells": [
  {
   "cell_type": "code",
   "execution_count": 7,
   "metadata": {},
   "outputs": [
    {
     "name": "stdout",
     "output_type": "stream",
     "text": [
      "The number is Negative!\n"
     ]
    }
   ],
   "source": [
    "# Övning 1\n",
    "\n",
    "number = int(input(\"Enter your number: \"))\n",
    "\n",
    "if number > 0:\n",
    "    print(f\"The number is Positiv!\")\n",
    "elif number < 0:\n",
    "    print(f\"The number is Negative!\")\n",
    "else:\n",
    "    print(f\"The number is zero\")\n",
    "    "
   ]
  },
  {
   "cell_type": "code",
   "execution_count": 13,
   "metadata": {},
   "outputs": [
    {
     "name": "stdout",
     "output_type": "stream",
     "text": [
      "Number 2 is the smallest one!\n"
     ]
    }
   ],
   "source": [
    "# Övning 2\n",
    "\n",
    "number1 = int(input(f\"Please enter a number: \"))\n",
    "number2 = int(input(f\"Please enter a number: \"))\n",
    "\n",
    "if number1 == number2:\n",
    "    print(f\"The number is the same!\")\n",
    "elif number1 >= number2:\n",
    "    print(f\"Number {number2} is the smallest one!\")\n",
    "else:\n",
    "    print(f\"Number {number1} is the smallest one!\")\n"
   ]
  },
  {
   "cell_type": "code",
   "execution_count": 19,
   "metadata": {},
   "outputs": [
    {
     "name": "stdout",
     "output_type": "stream",
     "text": [
      "The Triangle is invalid!\n"
     ]
    }
   ],
   "source": [
    "# Övning 3\n",
    "\n",
    "angle1 = int(input(f\"Enter a value for Angle 1: \"))\n",
    "angle2 = int(input(f\"Enter a value for Angle 2: \"))\n",
    "angle3 = int(input(f\"Enter a value for Angle 3: \"))\n",
    "\n",
    "def angles_valid(angle1, angle2, angle3):\n",
    "\n",
    "    if ((angle1 + angle2 + angle3 == 180) and angle1 != 0 and angle2 != 0 and angle3 !=0):\n",
    "        return True\n",
    "    else:\n",
    "        return False\n",
    "\n",
    "if angles_valid(angle1, angle2, angle3):\n",
    "    print(f\"The triangle is Valid!\")\n",
    "else:\n",
    "    print(f\"The Triangle is Invalid!\")\n",
    "\n"
   ]
  },
  {
   "cell_type": "code",
   "execution_count": 36,
   "metadata": {},
   "outputs": [
    {
     "name": "stdout",
     "output_type": "stream",
     "text": [
      "You are to young and light to take pills\n"
     ]
    }
   ],
   "source": [
    "# Övning 4\n",
    "\n",
    "age = float(input(\"Enter your age: \"))\n",
    "weight = float(input(\"Input your weight (kg): \"))\n",
    "\n",
    "if weight > 40:\n",
    "    print(f\"I Recommend you to take 1-2 pills\")\n",
    "elif weight >= 26 and weight <= 40:\n",
    "    print(f\"I Recommend you to take 1/2 - 1 pills\")\n",
    "elif weight >= 15 and weight <= 25:\n",
    "    print(f\"I recommend you to take 1/2 pill\")\n",
    "else:\n",
    "    print(f\"You are to young and light to take pills\")\n"
   ]
  },
  {
   "cell_type": "code",
   "execution_count": 61,
   "metadata": {},
   "outputs": [
    {
     "name": "stdout",
     "output_type": "stream",
     "text": [
      "Odd number!\n",
      "This number is not dividet by 5!\n"
     ]
    }
   ],
   "source": [
    "# Övning 5\n",
    "\n",
    "number = int(input(\"Enter a number: \"))\n",
    "\n",
    "if number % 2 == 0:\n",
    "    print(f\"Even Number!\")\n",
    "elif number:\n",
    "    print(f\"Odd number!\")\n",
    "if number % 5 == 0:\n",
    "    print(f\"Good job the number is divided by 5!\")\n",
    "elif number:\n",
    "    print(f\"This number is not dividet by 5!\")\n"
   ]
  },
  {
   "cell_type": "code",
   "execution_count": 75,
   "metadata": {},
   "outputs": [
    {
     "name": "stdout",
     "output_type": "stream",
     "text": [
      "The luggage is to big and not allowed!\n",
      "The luggage is not to heavy and allowed!\n"
     ]
    }
   ],
   "source": [
    "# Övning 6\n",
    "\n",
    "lenght = int(input(f\"Enter the luggage lenght: \"))\n",
    "width = int(input(f\"Enter the luggage width: \"))\n",
    "height = int(input(f\"Enter the luggage height: \"))\n",
    "weight = int(input(f\"Enter the luggage weight: \"))\n",
    "\n",
    "def luggage(lenght, width, height):\n",
    "    if ((lenght <= 55) and (width <= 40) and (height <= 23)):\n",
    "        return True\n",
    "    else: \n",
    "        return False\n",
    "\n",
    "if luggage(lenght, width, height):\n",
    "    print(f\"The luggage is allowed and welcome aboard!!\")\n",
    "else:\n",
    "    print(f\"The luggage is to big and not allowed!\")\n",
    "\n",
    "def luggage_weight(weight):\n",
    "    if weight <= 8:\n",
    "        return True\n",
    "    else:\n",
    "        return False\n",
    "\n",
    "if luggage_weight(weight):\n",
    "    print(f\"The luggage is not to heavy and allowed!\")\n",
    "else:\n",
    "    print(f\"The luggage is to heavy and not allowed.\")\n"
   ]
  },
  {
   "cell_type": "code",
   "execution_count": 76,
   "metadata": {},
   "outputs": [
    {
     "name": "stdout",
     "output_type": "stream",
     "text": [
      "The luggage is allowed and welcome on board!!\n"
     ]
    }
   ],
   "source": [
    "# Övning 6 lite mindre kod \n",
    "\n",
    "lenght = int(input(f\"Enter the luggage lenght: \"))\n",
    "width = int(input(f\"Enter the luggage width: \"))\n",
    "height = int(input(f\"Enter the luggage height: \"))\n",
    "weight = int(input(f\"Enter the luggage weight: \"))\n",
    "\n",
    "def luggage(lenght, width, height, weight):\n",
    "    if ((lenght <= 55) and (width <= 40) and (height <= 23) and (weight <= 8)):\n",
    "        return True\n",
    "    else: \n",
    "        return False\n",
    "\n",
    "if luggage(lenght, width, height, weight):\n",
    "    print(f\"The luggage is allowed and welcome on board!!\")\n",
    "else:\n",
    "    print(f\"The luggage is to big or heavy and not allowed to board! Please check our rules.\")"
   ]
  }
 ],
 "metadata": {
  "kernelspec": {
   "display_name": "Python 3",
   "language": "python",
   "name": "python3"
  },
  "language_info": {
   "codemirror_mode": {
    "name": "ipython",
    "version": 3
   },
   "file_extension": ".py",
   "mimetype": "text/x-python",
   "name": "python",
   "nbconvert_exporter": "python",
   "pygments_lexer": "ipython3",
   "version": "3.12.6"
  }
 },
 "nbformat": 4,
 "nbformat_minor": 2
}
