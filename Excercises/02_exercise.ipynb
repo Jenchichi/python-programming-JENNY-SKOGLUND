{
 "cells": [
  {
   "cell_type": "code",
   "execution_count": 2,
   "metadata": {},
   "outputs": [
    {
     "name": "stdout",
     "output_type": "stream",
     "text": [
      "-10 -9 -8 -7 -6 -5 -4 -3 -2 -1 0 1 2 3 4 5 6 7 8 9 10 "
     ]
    }
   ],
   "source": [
    "# Övning 1\n",
    "\n",
    "i = -10\n",
    "\n",
    "while i <= 10:\n",
    "    print(i, end= \" \")\n",
    "    i += 1"
   ]
  },
  {
   "cell_type": "code",
   "execution_count": 8,
   "metadata": {},
   "outputs": [
    {
     "name": "stdout",
     "output_type": "stream",
     "text": [
      "5050\n"
     ]
    }
   ],
   "source": [
    "# Övning 2\n",
    "# 2a)\n",
    "\n",
    "sum = 0\n",
    "for i in range(1, 101):\n",
    "    sum += i\n",
    "print(sum)\n"
   ]
  },
  {
   "cell_type": "code",
   "execution_count": 11,
   "metadata": {},
   "outputs": [
    {
     "name": "stdout",
     "output_type": "stream",
     "text": [
      "2500\n"
     ]
    }
   ],
   "source": [
    "# Övning 2\n",
    "# 2b)\n",
    "\n",
    "sum = 0\n",
    "for i in range(1, 100, 2):\n",
    "    sum += i\n",
    "print(sum)\n"
   ]
  },
  {
   "cell_type": "code",
   "execution_count": 37,
   "metadata": {},
   "outputs": [
    {
     "name": "stdout",
     "output_type": "stream",
     "text": [
      "Your number is to high\n",
      "Congratulation your answer is 4 and Correct answer is 4\n"
     ]
    }
   ],
   "source": [
    "# Övning 3\n",
    "# 3a)\n",
    "\n",
    "import random as rng\n",
    "\n",
    "secret_number = rng.randint(1, 101)\n",
    "\n",
    "while True:\n",
    "    user_answer = int(input(f\"What is your number guess?: \"))\n",
    "\n",
    "    if secret_number > user_answer:\n",
    "        print(f\"Your number is to low\")\n",
    "    elif secret_number < user_answer:\n",
    "        print(f\"Your number is to high\")\n",
    "    if user_answer == secret_number:\n",
    "        print(f\"Congratulation your answer is {user_answer} and Correct\")\n",
    "        break\n"
   ]
  },
  {
   "cell_type": "code",
   "execution_count": 115,
   "metadata": {},
   "outputs": [
    {
     "name": "stdout",
     "output_type": "stream",
     "text": [
      "Your number is to high\n",
      "Your number is to low\n",
      "Your number is to high\n",
      "Your number is to high\n",
      "Your number is to high\n",
      "Your number is to high\n",
      "Your number is to high\n",
      "Congratulation Acer your answer is 25 and you are awsome!!\n"
     ]
    }
   ],
   "source": [
    "# Övning 3\n",
    "# 3b)\n",
    "\n",
    "import random \n",
    "\n",
    "secret_number = random.randint(1, 101)\n",
    "\n",
    "while True:\n",
    "    computer = random.randint(1, 101)\n",
    "\n",
    "    if secret_number > computer:\n",
    "        print(f\"Your number is to low\")\n",
    "    elif secret_number < computer:\n",
    "        print(f\"Your number is to high\")\n",
    "    if computer == secret_number:\n",
    "        print(f\"Congratulation Acer your answer is {computer} and you are awsome!!\")\n",
    "        break\n"
   ]
  },
  {
   "cell_type": "code",
   "execution_count": 116,
   "metadata": {},
   "outputs": [
    {
     "name": "stdout",
     "output_type": "stream",
     "text": [
      "Your guess 49 was to high\n",
      "Your guess 24 was to high\n",
      "Your guess 13 was to low\n",
      "Your guess 17 was to high\n",
      "Your guess 14 was to high\n",
      "Your guess 14 was to low\n",
      "Congratulation Acer you guessed the correct in 6 tries, the correct number was 14\n"
     ]
    }
   ],
   "source": [
    "# Övning 3 test\n",
    "# 3b)\n",
    "\n",
    "import random as rng\n",
    "\n",
    "secret_number = rng.randint(1, 101)\n",
    "\n",
    "computer = None\n",
    "computer_guess = 0\n",
    "\n",
    "high = 100\n",
    "low = 1\n",
    "\n",
    "while computer != secret_number:\n",
    "    computer = (high + low) // 2\n",
    "\n",
    "    if computer > secret_number:\n",
    "        high = computer - 1\n",
    "        print(f\"Your guess {high} was to high\")\n",
    "    elif computer < secret_number:\n",
    "        low = computer + 1\n",
    "        print(f\"Your guess {low} was to low\")\n",
    "    else:\n",
    "        print(f\"Congratulation Acer you guessed the correct in {computer_guess} tries, the correct number was {secret_number}\")\n",
    "    computer_guess += 1\n"
   ]
  }
 ],
 "metadata": {
  "kernelspec": {
   "display_name": "Python 3",
   "language": "python",
   "name": "python3"
  },
  "language_info": {
   "codemirror_mode": {
    "name": "ipython",
    "version": 3
   },
   "file_extension": ".py",
   "mimetype": "text/x-python",
   "name": "python",
   "nbconvert_exporter": "python",
   "pygments_lexer": "ipython3",
   "version": "3.12.3"
  }
 },
 "nbformat": 4,
 "nbformat_minor": 2
}
