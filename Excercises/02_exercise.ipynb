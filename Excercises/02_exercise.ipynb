{
 "cells": [
  {
   "cell_type": "code",
   "execution_count": 2,
   "metadata": {},
   "outputs": [
    {
     "name": "stdout",
     "output_type": "stream",
     "text": [
      "-10 -9 -8 -7 -6 -5 -4 -3 -2 -1 0 1 2 3 4 5 6 7 8 9 10 "
     ]
    }
   ],
   "source": [
    "# Övning 1\n",
    "\n",
    "i = -10\n",
    "\n",
    "while i <= 10:\n",
    "    print(i, end= \" \")\n",
    "    i += 1"
   ]
  },
  {
   "cell_type": "code",
   "execution_count": 8,
   "metadata": {},
   "outputs": [
    {
     "name": "stdout",
     "output_type": "stream",
     "text": [
      "5050\n"
     ]
    }
   ],
   "source": [
    "# Övning 2\n",
    "# 2a)\n",
    "\n",
    "sum = 0\n",
    "for i in range(1, 101):\n",
    "    sum += i\n",
    "print(sum)\n"
   ]
  },
  {
   "cell_type": "code",
   "execution_count": 11,
   "metadata": {},
   "outputs": [
    {
     "name": "stdout",
     "output_type": "stream",
     "text": [
      "2500\n"
     ]
    }
   ],
   "source": [
    "# Övning 2\n",
    "# 2b)\n",
    "\n",
    "sum = 0\n",
    "for i in range(1, 100, 2):\n",
    "    sum += i\n",
    "print(sum)\n"
   ]
  },
  {
   "cell_type": "code",
   "execution_count": 3,
   "metadata": {},
   "outputs": [
    {
     "name": "stdout",
     "output_type": "stream",
     "text": [
      "Your number is to low\n",
      "Your number is to low\n",
      "Your number is to low\n",
      "Your number is to high\n",
      "Your number is to high\n",
      "Your number is to high\n",
      "Your number is to high\n",
      "Congratulation your answer is 59 and Correct\n"
     ]
    }
   ],
   "source": [
    "# Övning 3\n",
    "# 3a)\n",
    "\n",
    "import random as rng\n",
    "\n",
    "secret_number = rng.randint(1, 101)\n",
    "\n",
    "while True:\n",
    "    user_answer = int(input(f\"What is your number guess?: \"))\n",
    "\n",
    "    if secret_number > user_answer:\n",
    "        print(f\"Your number is to low\")\n",
    "    elif secret_number < user_answer:\n",
    "        print(f\"Your number is to high\")\n",
    "    if user_answer == secret_number:\n",
    "        print(f\"Congratulation your answer is {user_answer} and Correct\")\n",
    "        break\n"
   ]
  },
  {
   "cell_type": "code",
   "execution_count": 2,
   "metadata": {},
   "outputs": [
    {
     "name": "stdout",
     "output_type": "stream",
     "text": [
      "Your number is to low\n",
      "Your number is to low\n",
      "Your number is to high\n",
      "Your number is to low\n",
      "Your number is to low\n",
      "Your number is to high\n",
      "Your number is to low\n",
      "Your number is to low\n",
      "Your number is to low\n",
      "Your number is to low\n",
      "Your number is to high\n",
      "Your number is to high\n",
      "Your number is to high\n",
      "Your number is to low\n",
      "Your number is to low\n",
      "Your number is to high\n",
      "Your number is to low\n",
      "Your number is to low\n",
      "Your number is to high\n",
      "Your number is to low\n",
      "Your number is to high\n",
      "Your number is to high\n",
      "Your number is to high\n",
      "Your number is to high\n",
      "Your number is to low\n",
      "Your number is to low\n",
      "Your number is to high\n",
      "Your number is to low\n",
      "Your number is to low\n",
      "Your number is to low\n",
      "Your number is to low\n",
      "Your number is to low\n",
      "Your number is to low\n",
      "Your number is to high\n",
      "Your number is to high\n",
      "Your number is to low\n",
      "Your number is to low\n",
      "Your number is to high\n",
      "Your number is to high\n",
      "Your number is to low\n",
      "Your number is to high\n",
      "Your number is to high\n",
      "Your number is to high\n",
      "Your number is to high\n",
      "Your number is to high\n",
      "Your number is to low\n",
      "Your number is to low\n",
      "Your number is to high\n",
      "Your number is to low\n",
      "Your number is to high\n",
      "Your number is to high\n",
      "Your number is to low\n",
      "Your number is to low\n",
      "Your number is to low\n",
      "Your number is to high\n",
      "Your number is to high\n",
      "Your number is to low\n",
      "Your number is to high\n",
      "Your number is to low\n",
      "Your number is to high\n",
      "Your number is to high\n",
      "Your number is to low\n",
      "Congratulation Acer your answer is 54 and you are awsome!!\n"
     ]
    }
   ],
   "source": [
    "# Övning 3\n",
    "# 3b)\n",
    "\n",
    "import random \n",
    "\n",
    "secret_number = random.randint(1, 101)\n",
    "\n",
    "while True:\n",
    "    computer = random.randint(1, 101)\n",
    "\n",
    "    if secret_number > computer:\n",
    "        print(f\"Your number is to low\")\n",
    "    elif secret_number < computer:\n",
    "        print(f\"Your number is to high\")\n",
    "    if computer == secret_number:\n",
    "        print(f\"Congratulation Acer your answer is {computer} and you are awsome!!\")\n",
    "        break\n"
   ]
  },
  {
   "cell_type": "code",
   "execution_count": 7,
   "metadata": {},
   "outputs": [
    {
     "name": "stdout",
     "output_type": "stream",
     "text": [
      "Your guess 49 was to high\n",
      "Your guess 24 was to high\n",
      "Your guess 13 was to low\n",
      "Your guess 19 was to low\n",
      "Your guess 20 was to high\n",
      "Congratulation Acer you guessed the correct in 5 tries, the correct number was 19\n"
     ]
    }
   ],
   "source": [
    "# Övning 3 test\n",
    "# 3b)\n",
    "\n",
    "import random as rng\n",
    "\n",
    "secret_number = rng.randint(1, 101)\n",
    "\n",
    "computer = None\n",
    "computer_guess = 0\n",
    "\n",
    "high = 100\n",
    "low = 1\n",
    "\n",
    "while computer != secret_number:\n",
    "    computer = (high + low) // 2\n",
    "\n",
    "    if computer > secret_number:\n",
    "        high = computer - 1\n",
    "        print(f\"Your guess {high} was to high\")\n",
    "    elif computer < secret_number:\n",
    "        low = computer + 1\n",
    "        print(f\"Your guess {low} was to low\")\n",
    "    else:\n",
    "        print(f\"Congratulation Acer you guessed the correct in {computer_guess} tries, the correct number was {secret_number}\")\n",
    "    computer_guess += 1\n"
   ]
  },
  {
   "cell_type": "code",
   "execution_count": 10,
   "metadata": {},
   "outputs": [
    {
     "name": "stdout",
     "output_type": "stream",
     "text": [
      "Your answer is correct! Your score is: 1\n",
      "Your answer is correct! Your score is: 2\n",
      "Thank you for playing have a nice day!\n"
     ]
    }
   ],
   "source": [
    "# Övning 4\n",
    "# 4a)\n",
    "\n",
    "import random as rng \n",
    "\n",
    "counter = 1\n",
    "\n",
    "while True:\n",
    "    x = rng.randint(1, 10)\n",
    "    y = rng.randint(1, 10)\n",
    "\n",
    "    user = int(input(f\"What is {x} * {y}?\"))\n",
    "    if user == x * y:\n",
    "        print(f\"Your answer is correct! Your score is:\", counter)\n",
    "        counter += 1\n",
    "    else:\n",
    "        print(f\"The answer was wrong, Right answer is {x*y}. Your score is:\", counter)\n",
    "    play_again = input(f\"Do you want to play again? y / n: \")\n",
    "    if play_again != \"y\":\n",
    "        print(f\"Thank you for playing have a nice day!\")\n",
    "        break"
   ]
  },
  {
   "cell_type": "code",
   "execution_count": 8,
   "metadata": {},
   "outputs": [
    {
     "name": "stdout",
     "output_type": "stream",
     "text": [
      "Please choose a difficulty level:\n",
      "1 - Easy\n",
      "2 - Medium\n",
      "3 - Hard\n",
      "Your answer is correct! Your score is: 1\n",
      "Your answer is correct! Your score is: 2\n",
      "The answer was wrong, Right answer is 6. Your score is: 2\n",
      "Your answer is correct! Your score is: 3\n",
      "Thank you for playing have a nice day!\n"
     ]
    }
   ],
   "source": [
    "# Övning 4\n",
    "# 4b)\n",
    "\n",
    "import random as rng \n",
    "import math\n",
    "\n",
    "counter = 0\n",
    "\n",
    "print(f\"Please choose a difficulty level:\")\n",
    "print(f\"1 - Easy\")\n",
    "print(f\"2 - Medium\")\n",
    "print(f\"3 - Hard\")\n",
    "level = input(f\"Enter a difficulty level: \")\n",
    "\n",
    "while True:\n",
    "\n",
    "    if level == \"1\":\n",
    "        x = rng.randint(1, 3)\n",
    "        y = rng.randint(1, 3)\n",
    "    if level == \"2\":\n",
    "        x = rng.randint(1, 5)\n",
    "        y = rng.randint(1, 5)\n",
    "    if level == \"3\":\n",
    "        x = rng.randint(1, 10)\n",
    "        y = rng.randint(1, 10)\n",
    "\n",
    "    user = int(input(f\"What is {x} * {y}?\"))\n",
    "    if user == x * y:\n",
    "        counter += 1\n",
    "        print(f\"Your answer is correct! Your score is:\", counter)\n",
    "        \n",
    "    else:\n",
    "        print(f\"The answer was wrong, Right answer is {x*y}. Your score is:\", counter)\n",
    "    play_again = input(f\"Do you want to play again? y / n: \")\n",
    "    if play_again != \"y\":\n",
    "        print(f\"Thank you for playing have a nice day!\")\n",
    "        break"
   ]
  },
  {
   "cell_type": "code",
   "execution_count": 48,
   "metadata": {},
   "outputs": [
    {
     "data": {
      "text/plain": [
       "np.float64(2.0)"
      ]
     },
     "execution_count": 48,
     "metadata": {},
     "output_type": "execute_result"
    }
   ],
   "source": [
    "# Övning 5\n",
    "# 5a) \n",
    "# math.pow(2, n) = upphöjer ex. 2^n\n",
    "\n",
    "import numpy as np\n",
    "import math\n",
    "\n",
    "\n",
    "def funk(n):\n",
    "    import numpy as np\n",
    "    e = 1/2**n\n",
    "    # print(\"n = {n} f(x)= {x} \")\n",
    "    return e\n",
    "np.sum([funk(n) for n in range(0, 1000)])\n",
    "\n"
   ]
  },
  {
   "cell_type": "code",
   "execution_count": 49,
   "metadata": {},
   "outputs": [
    {
     "name": "stdout",
     "output_type": "stream",
     "text": [
      "Number of iterations 1000002\n",
      "sum: 1000002.0000 or 318310.5228\n"
     ]
    }
   ],
   "source": [
    "# Övning 5b - lektion\n",
    "\n",
    "import numpy as np\n",
    "\n",
    "def term(n):\n",
    "    return np.divide(np.float_power((-1), n), 2*n+1)\n",
    "n = 0\n",
    "acc = 0\n",
    "v = 0\n",
    "e = 1\n",
    "while e > np.float_power(10, -6):\n",
    "    prev = v\n",
    "    v = term(n)\n",
    "    e = np.absolute(prev - v)\n",
    "    acc += 1\n",
    "    n += 1\n",
    "\n",
    "print(f\"Number of iterations {n}\\nsum: {acc:.4f} or {np.divide(acc, np.pi):.4f}\")\n"
   ]
  },
  {
   "cell_type": "code",
   "execution_count": 50,
   "metadata": {},
   "outputs": [
    {
     "name": "stdout",
     "output_type": "stream",
     "text": [
      "sum 0.7854 or  0.2500n\n"
     ]
    }
   ],
   "source": [
    "x = np.arange(1000000)\n",
    "s = np.sum(term(x))\n",
    "print(f\"sum {s:.4f} or {np.divide(s, np.pi): .4f}n\")\n"
   ]
  }
 ],
 "metadata": {
  "kernelspec": {
   "display_name": "Python 3",
   "language": "python",
   "name": "python3"
  },
  "language_info": {
   "codemirror_mode": {
    "name": "ipython",
    "version": 3
   },
   "file_extension": ".py",
   "mimetype": "text/x-python",
   "name": "python",
   "nbconvert_exporter": "python",
   "pygments_lexer": "ipython3",
   "version": "3.12.6"
  }
 },
 "nbformat": 4,
 "nbformat_minor": 2
}
