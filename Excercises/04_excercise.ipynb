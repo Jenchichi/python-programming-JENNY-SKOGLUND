{
 "cells": [
  {
   "cell_type": "code",
   "execution_count": 56,
   "metadata": {},
   "outputs": [
    {
     "name": "stdout",
     "output_type": "stream",
     "text": [
      "[1, 1, 2, 3, 3, 4, 4, 4, 4, 4]\n"
     ]
    }
   ],
   "source": [
    "# Övning 1a)\n",
    "\n",
    "dice_list = []\n",
    "\n",
    "import random as rng\n",
    "for dice in range(10):\n",
    "    dice = rng.randint(1, 6)\n",
    "    dice_list.append(dice)\n",
    "dice_list.sort()\n",
    "\n",
    "print(dice_list)\n"
   ]
  },
  {
   "cell_type": "code",
   "execution_count": 57,
   "metadata": {},
   "outputs": [
    {
     "name": "stdout",
     "output_type": "stream",
     "text": [
      "[4, 4, 4, 4, 4, 3, 3, 2, 1, 1]\n"
     ]
    }
   ],
   "source": [
    "# Övning 2b)\n",
    "\n",
    "dice_list.reverse()\n",
    "\n",
    "print(dice_list)"
   ]
  },
  {
   "cell_type": "code",
   "execution_count": 8,
   "metadata": {},
   "outputs": [
    {
     "name": "stdout",
     "output_type": "stream",
     "text": [
      "[2, 1, 3, 2, 4, 4, 3, 1, 4, 2]\n",
      "Maximum 4\n",
      "Minimum 1\n"
     ]
    }
   ],
   "source": [
    "# Övning 1c)\n",
    "\n",
    "dice_list = []\n",
    "\n",
    "import random as rng\n",
    "for dice in range(10):\n",
    "    dice = rng.randint(1, 6)\n",
    "    dice_list.append(dice)\n",
    "\n",
    "print(dice_list)\n",
    "print(\"Maximum\", max(dice_list))\n",
    "print(\"Minimum\", min(dice_list))"
   ]
  },
  {
   "cell_type": "code",
   "execution_count": 15,
   "metadata": {},
   "outputs": [
    {
     "name": "stdout",
     "output_type": "stream",
     "text": [
      "Bambameny\n",
      "Måndag: Vegetarisk lasagne \n",
      "Tisdag: Spaghetti \n",
      "Onsdag: Fisk \n",
      "Torsdag: Grönsakssoppa \n",
      "Fredag: Pannkakor \n",
      "\n"
     ]
    }
   ],
   "source": [
    "# Övning 2a,b,c)\n",
    "\n",
    "meny = [\"Vegetarisk lasagne\", \"Spaghetti\", \"Fisk\", \"Grönsakssoppa\", \"Pannkakor\"]\n",
    "weekdays = [\"Måndag\", \"Tisdag\", \"Onsdag\", \"Torsdag\", \"Fredag\"]\n",
    "\n",
    "bambameny = \"Bambameny\\n\"\n",
    "\n",
    "for day, food in zip(weekdays, meny):\n",
    "    bambameny += f\"{day}: {food} \\n\"\n",
    "print(bambameny)"
   ]
  },
  {
   "cell_type": "code",
   "execution_count": 41,
   "metadata": {},
   "outputs": [
    {
     "name": "stdout",
     "output_type": "stream",
     "text": [
      "[100, 81, 64, 49, 36, 25, 16, 9, 4, 1, 0, 1, 4, 9, 16, 25, 36, 49, 64, 81, 100]\n"
     ]
    }
   ],
   "source": [
    "# Övning 3a)\n",
    "\n",
    "start = -10\n",
    "end = 10\n",
    "\n",
    "def squares(start, end):\n",
    "    return [x**2 for x in range(start, end + 1)]\n",
    "\n",
    "print(squares(start, end))\n"
   ]
  },
  {
   "cell_type": "code",
   "execution_count": 48,
   "metadata": {},
   "outputs": [
    {
     "data": {
      "image/png": "[encoded data removed]",
      "text/plain": [
       "<Figure size 640x480 with 1 Axes>"
      ]
     },
     "metadata": {},
     "output_type": "display_data"
    }
   ],
   "source": [
    "# Övning 3b)\n",
    "\n",
    "import matplotlib.pyplot as plt\n",
    "\n",
    "x_values = range(-10, 11)\n",
    "y_values = [x*x for x in x_values]\n",
    "\n",
    "plt.plot(x_values, y_values)\n",
    "plt.xlabel(\"X\")\n",
    "plt.ylabel(\"Y\")\n",
    "plt.title(\"The funktion x^2\")\n",
    "\n",
    "plt.show()"
   ]
  },
  {
   "cell_type": "code",
   "execution_count": 198,
   "metadata": {},
   "outputs": [
    {
     "name": "stdout",
     "output_type": "stream",
     "text": [
      "['A1', 'B1', 'C1', 'D1', 'E1', 'F1', 'G1', 'H1']\n",
      "['A1', 'B1', 'C1', 'D1', 'E1', 'F1', 'G1', 'H1']\n",
      "['A1', 'B1', 'C1', 'D1', 'E1', 'F1', 'G1', 'H1']\n",
      "['A1', 'B1', 'C1', 'D1', 'E1', 'F1', 'G1', 'H1']\n",
      "['A1', 'B1', 'C1', 'D1', 'E1', 'F1', 'G1', 'H1']\n",
      "['A1', 'B1', 'C1', 'D1', 'E1', 'F1', 'G1', 'H1']\n",
      "['A1', 'B1', 'C1', 'D1', 'E1', 'F1', 'G1', 'H1']\n",
      "['A1', 'B1', 'C1', 'D1', 'E1', 'F1', 'G1', 'H1']\n"
     ]
    }
   ],
   "source": [
    "# Övning 4a, b)\n",
    "\n",
    "list1 = ['A1', 'B1', 'C1', 'D1', 'E1', 'F1', 'G1', 'H1']\n",
    "\n",
    "for i in list1:\n",
    "\n",
    "\n",
    "    print(list1)"
   ]
  },
  {
   "cell_type": "code",
   "execution_count": 200,
   "metadata": {},
   "outputs": [
    {
     "name": "stdout",
     "output_type": "stream",
     "text": [
      "['A1', 'B1', 'C1', 'D1', 'E1', 'F1', 'G1', 'H1']\n"
     ]
    }
   ],
   "source": [
    "\n",
    "\n",
    "list1 = ['A1', 'B1', 'C1', 'D1', 'E1', 'F1', 'G1', 'H1']\n",
    "\n",
    "def chessboard(x,y):\n",
    "    for row in range(1, x+1):\n",
    "        for col in range(1, y+1):\n",
    "            num = row * col\n",
    "            if num < 1: blank = ' '\n",
    "            else:\n",
    "                if num < 8: blank = ' '\n",
    "            print(blank, num, end = ' ')\n",
    "        print()\n",
    "\n",
    "print(list1)"
   ]
  }
 ],
 "metadata": {
  "kernelspec": {
   "display_name": ".venv",
   "language": "python",
   "name": "python3"
  },
  "language_info": {
   "codemirror_mode": {
    "name": "ipython",
    "version": 3
   },
   "file_extension": ".py",
   "mimetype": "text/x-python",
   "name": "python",
   "nbconvert_exporter": "python",
   "pygments_lexer": "ipython3",
   "version": "3.12.6"
  }
 },
 "nbformat": 4,
 "nbformat_minor": 2
}
