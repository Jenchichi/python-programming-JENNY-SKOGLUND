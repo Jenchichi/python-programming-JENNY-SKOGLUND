{
 "cells": [
  {
   "cell_type": "code",
   "execution_count": 56,
   "metadata": {},
   "outputs": [
    {
     "name": "stdout",
     "output_type": "stream",
     "text": [
      "[1, 1, 2, 3, 3, 4, 4, 4, 4, 4]\n"
     ]
    }
   ],
   "source": [
    "# Övning 1a)\n",
    "\n",
    "dice_list = []\n",
    "\n",
    "import random as rng\n",
    "for dice in range(10):\n",
    "    dice = rng.randint(1, 6)\n",
    "    dice_list.append(dice)\n",
    "dice_list.sort()\n",
    "\n",
    "print(dice_list)\n"
   ]
  },
  {
   "cell_type": "code",
   "execution_count": 57,
   "metadata": {},
   "outputs": [
    {
     "name": "stdout",
     "output_type": "stream",
     "text": [
      "[4, 4, 4, 4, 4, 3, 3, 2, 1, 1]\n"
     ]
    }
   ],
   "source": [
    "# Övning 2b)\n",
    "\n",
    "dice_list.reverse()\n",
    "\n",
    "print(dice_list)"
   ]
  },
  {
   "cell_type": "code",
   "execution_count": 8,
   "metadata": {},
   "outputs": [
    {
     "name": "stdout",
     "output_type": "stream",
     "text": [
      "[2, 1, 3, 2, 4, 4, 3, 1, 4, 2]\n",
      "Maximum 4\n",
      "Minimum 1\n"
     ]
    }
   ],
   "source": [
    "# Övning 1c)\n",
    "\n",
    "dice_list = []\n",
    "\n",
    "import random as rng\n",
    "for dice in range(10):\n",
    "    dice = rng.randint(1, 6)\n",
    "    dice_list.append(dice)\n",
    "\n",
    "print(dice_list)\n",
    "print(\"Maximum\", max(dice_list))\n",
    "print(\"Minimum\", min(dice_list))"
   ]
  },
  {
   "cell_type": "code",
   "execution_count": 15,
   "metadata": {},
   "outputs": [
    {
     "name": "stdout",
     "output_type": "stream",
     "text": [
      "Bambameny\n",
      "Måndag: Vegetarisk lasagne \n",
      "Tisdag: Spaghetti \n",
      "Onsdag: Fisk \n",
      "Torsdag: Grönsakssoppa \n",
      "Fredag: Pannkakor \n",
      "\n"
     ]
    }
   ],
   "source": [
    "# Övning 2a,b,c)\n",
    "\n",
    "meny = [\"Vegetarisk lasagne\", \"Spaghetti\", \"Fisk\", \"Grönsakssoppa\", \"Pannkakor\"]\n",
    "weekdays = [\"Måndag\", \"Tisdag\", \"Onsdag\", \"Torsdag\", \"Fredag\"]\n",
    "\n",
    "bambameny = \"Bambameny\\n\"\n",
    "\n",
    "for day, food in zip(weekdays, meny):\n",
    "    bambameny += f\"{day}: {food} \\n\"\n",
    "print(bambameny)"
   ]
  },
  {
   "cell_type": "code",
   "execution_count": 17,
   "metadata": {},
   "outputs": [
    {
     "name": "stdout",
     "output_type": "stream",
     "text": [
      "[100, 81, 64, 49, 36, 25, 16, 9, 4, 1, 0, 1, 4, 9, 16, 25, 36, 49, 64, 81, 100]\n"
     ]
    }
   ],
   "source": [
    "# Övning 3a)\n",
    "\n",
    "start = -10\n",
    "end = 10\n",
    "\n",
    "def squares(start, end):\n",
    "    return [x*x for x in range(start, end + 1)]\n",
    "\n",
    "print(squares(start, end))\n"
   ]
  },
  {
   "cell_type": "code",
   "execution_count": null,
   "metadata": {},
   "outputs": [],
   "source": [
    "# Övning 3b)\n",
    "\n",
    "import matplotlib.pyplot as plt\n",
    "\n",
    "y = -10\n",
    "x = 10\n",
    "\n",
    "def squares(y, x):\n",
    "    for x in range(y, x + 1):\n",
    "\n",
    "plt.plot(range)\n",
    "\n",
    "\n"
   ]
  },
  {
   "cell_type": "code",
   "execution_count": 7,
   "metadata": {},
   "outputs": [
    {
     "ename": "ModuleNotFoundError",
     "evalue": "No module named 'matplotlib'",
     "output_type": "error",
     "traceback": [
      "\u001b[1;31m---------------------------------------------------------------------------\u001b[0m",
      "\u001b[1;31mModuleNotFoundError\u001b[0m                       Traceback (most recent call last)",
      "Cell \u001b[1;32mIn[7], line 1\u001b[0m\n\u001b[1;32m----> 1\u001b[0m \u001b[38;5;28;01mimport\u001b[39;00m \u001b[38;5;21;01mmatplotlib\u001b[39;00m\u001b[38;5;21;01m.\u001b[39;00m\u001b[38;5;21;01mpyplot\u001b[39;00m \u001b[38;5;28;01mas\u001b[39;00m \u001b[38;5;21;01mplt\u001b[39;00m\n\u001b[0;32m      3\u001b[0m start \u001b[38;5;241m=\u001b[39m \u001b[38;5;241m-\u001b[39m\u001b[38;5;241m10\u001b[39m\n\u001b[0;32m      4\u001b[0m end \u001b[38;5;241m=\u001b[39m \u001b[38;5;241m10\u001b[39m\n",
      "\u001b[1;31mModuleNotFoundError\u001b[0m: No module named 'matplotlib'"
     ]
    }
   ],
   "source": [
    "import matplotlib.pyplot as plt\n",
    "\n",
    "start = -10\n",
    "end = 10\n",
    "\n",
    "def squares(start, end):\n",
    "    return [x*x for x in range(start, end + 1)]\n",
    "\n",
    "plt.plot(range(start, end))\n",
    "plt.xlabel(\"X\")\n",
    "plt.ylabel(\"Y\")\n",
    "plt.title(\"The function X^2\")\n",
    "\n",
    "plt.show()"
   ]
  }
 ],
 "metadata": {
  "kernelspec": {
   "display_name": ".venv",
   "language": "python",
   "name": "python3"
  },
  "language_info": {
   "codemirror_mode": {
    "name": "ipython",
    "version": 3
   },
   "file_extension": ".py",
   "mimetype": "text/x-python",
   "name": "python",
   "nbconvert_exporter": "python",
   "pygments_lexer": "ipython3",
   "version": "3.12.6"
  }
 },
 "nbformat": 4,
 "nbformat_minor": 2
}
