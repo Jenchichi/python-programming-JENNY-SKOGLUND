{
 "cells": [
  {
   "cell_type": "code",
   "execution_count": 56,
   "metadata": {},
   "outputs": [
    {
     "name": "stdout",
     "output_type": "stream",
     "text": [
      "[1, 1, 2, 3, 3, 4, 4, 4, 4, 4]\n"
     ]
    }
   ],
   "source": [
    "# Övning 1a)\n",
    "\n",
    "dice_list = []\n",
    "\n",
    "import random as rng\n",
    "for dice in range(10):\n",
    "    dice = rng.randint(1, 6)\n",
    "    dice_list.append(dice)\n",
    "dice_list.sort()\n",
    "\n",
    "print(dice_list)\n"
   ]
  },
  {
   "cell_type": "code",
   "execution_count": 57,
   "metadata": {},
   "outputs": [
    {
     "name": "stdout",
     "output_type": "stream",
     "text": [
      "[4, 4, 4, 4, 4, 3, 3, 2, 1, 1]\n"
     ]
    }
   ],
   "source": [
    "# Övning 2b)\n",
    "\n",
    "dice_list.reverse()\n",
    "\n",
    "print(dice_list)"
   ]
  },
  {
   "cell_type": "code",
   "execution_count": 8,
   "metadata": {},
   "outputs": [
    {
     "name": "stdout",
     "output_type": "stream",
     "text": [
      "[2, 1, 3, 2, 4, 4, 3, 1, 4, 2]\n",
      "Maximum 4\n",
      "Minimum 1\n"
     ]
    }
   ],
   "source": [
    "# Övning 1c)\n",
    "\n",
    "dice_list = []\n",
    "\n",
    "import random as rng\n",
    "for dice in range(10):\n",
    "    dice = rng.randint(1, 6)\n",
    "    dice_list.append(dice)\n",
    "\n",
    "print(dice_list)\n",
    "print(\"Maximum\", max(dice_list))\n",
    "print(\"Minimum\", min(dice_list))"
   ]
  },
  {
   "cell_type": "code",
   "execution_count": 15,
   "metadata": {},
   "outputs": [
    {
     "name": "stdout",
     "output_type": "stream",
     "text": [
      "Bambameny\n",
      "Måndag: Vegetarisk lasagne \n",
      "Tisdag: Spaghetti \n",
      "Onsdag: Fisk \n",
      "Torsdag: Grönsakssoppa \n",
      "Fredag: Pannkakor \n",
      "\n"
     ]
    }
   ],
   "source": [
    "# Övning 2a,b,c)\n",
    "\n",
    "meny = [\"Vegetarisk lasagne\", \"Spaghetti\", \"Fisk\", \"Grönsakssoppa\", \"Pannkakor\"]\n",
    "weekdays = [\"Måndag\", \"Tisdag\", \"Onsdag\", \"Torsdag\", \"Fredag\"]\n",
    "\n",
    "bambameny = \"Bambameny\\n\"\n",
    "\n",
    "for day, food in zip(weekdays, meny):\n",
    "    bambameny += f\"{day}: {food} \\n\"\n",
    "print(bambameny)"
   ]
  },
  {
   "cell_type": "code",
   "execution_count": 41,
   "metadata": {},
   "outputs": [
    {
     "name": "stdout",
     "output_type": "stream",
     "text": [
      "[100, 81, 64, 49, 36, 25, 16, 9, 4, 1, 0, 1, 4, 9, 16, 25, 36, 49, 64, 81, 100]\n"
     ]
    }
   ],
   "source": [
    "# Övning 3a)\n",
    "\n",
    "start = -10\n",
    "end = 10\n",
    "\n",
    "def squares(start, end):\n",
    "    return [x**2 for x in range(start, end + 1)]\n",
    "\n",
    "print(squares(start, end))\n"
   ]
  },
  {
   "cell_type": "code",
   "execution_count": 48,
   "metadata": {},
   "outputs": [
    {
     "data": {
      "image/png": "[encoded data removed]",
      "text/plain": [
       "<Figure size 640x480 with 1 Axes>"
      ]
     },
     "metadata": {},
     "output_type": "display_data"
    }
   ],
   "source": [
    "# Övning 3b)\n",
    "\n",
    "import matplotlib.pyplot as plt\n",
    "\n",
    "x_values = range(-10, 11)\n",
    "y_values = [x*x for x in x_values]\n",
    "\n",
    "plt.plot(x_values, y_values)\n",
    "plt.xlabel(\"X\")\n",
    "plt.ylabel(\"Y\")\n",
    "plt.title(\"The funktion x^2\")\n",
    "\n",
    "plt.show()"
   ]
  },
  {
   "cell_type": "code",
   "execution_count": 32,
   "metadata": {},
   "outputs": [
    {
     "name": "stdout",
     "output_type": "stream",
     "text": [
      "['A1', 'B1', 'C1', 'D1', 'E1', 'F1', 'G1', 'H1']\n",
      "['A2', 'B2', 'C2', 'D2', 'E2', 'F2', 'G2', 'H2']\n",
      "['A3', 'B3', 'C3', 'D3', 'E3', 'F3', 'G3', 'H3']\n",
      "['A4', 'B4', 'C4', 'D4', 'E4', 'F4', 'G4', 'H4']\n",
      "['A5', 'B5', 'C5', 'D5', 'E5', 'F5', 'G5', 'H5']\n",
      "['A6', 'B6', 'C6', 'D6', 'E6', 'F6', 'G6', 'H6']\n",
      "['A7', 'B7', 'C7', 'D7', 'E7', 'F7', 'G7', 'H7']\n",
      "['A8', 'B8', 'C8', 'D8', 'E8', 'F8', 'G8', 'H8']\n"
     ]
    }
   ],
   "source": [
    "# Övning 4a, b)\n",
    "\n",
    "list1 = ['A', 'B', 'C', 'D', 'E', 'F', 'G', 'H']\n",
    "list2 = [1,2,3,4,5,6,7,8]\n",
    "result = []\n",
    "for i in list2:\n",
    "    result.append([L+str(i) for L in list1])\n",
    "\n",
    "for r in result:\n",
    "    print(r)"
   ]
  },
  {
   "cell_type": "code",
   "execution_count": 33,
   "metadata": {},
   "outputs": [
    {
     "name": "stdout",
     "output_type": "stream",
     "text": [
      "The number of outcome six in 100 dice rolls is: 18\n"
     ]
    }
   ],
   "source": [
    "# Övning 5a)\n",
    "\n",
    "\n",
    "count_six = []\n",
    "\n",
    "import random as rng \n",
    "for dice in range(100):\n",
    "    dice = rng.randint(1,6)\n",
    "    if dice == 6:\n",
    "        count_six.append(dice)\n",
    "print((f\"The number of outcome six in 100 dice rolls is: {len(count_six)}\"))\n"
   ]
  },
  {
   "cell_type": "code",
   "execution_count": 34,
   "metadata": {},
   "outputs": [
    {
     "name": "stdout",
     "output_type": "stream",
     "text": [
      "2\n",
      "21\n",
      "171\n",
      "1598\n",
      "16722\n",
      "167306\n"
     ]
    }
   ],
   "source": [
    "# Övning 5b)\n",
    "import random as rng\n",
    "\n",
    "def count_six(dice_rolls):\n",
    "    num_six = []\n",
    "    for _ in range(dice_rolls):\n",
    "        dice = rng.randint(1, 6)\n",
    "        if dice == 6:\n",
    "            num_six.append(dice)\n",
    "    return len(num_six)\n",
    "print(count_six(10))\n",
    "print(count_six(100))\n",
    "print(count_six(1000))\n",
    "print(count_six(10000))\n",
    "print(count_six(100000))\n",
    "print(count_six(1000000))\n"
   ]
  },
  {
   "cell_type": "code",
   "execution_count": 38,
   "metadata": {},
   "outputs": [
    {
     "data": {
      "text/plain": [
       "Text(0, 0.5, 'Probability')"
      ]
     },
     "execution_count": 38,
     "metadata": {},
     "output_type": "execute_result"
    },
    {
     "data": {
      "image/png": "[encoded data removed]",
      "text/plain": [
       "<Figure size 640x480 with 1 Axes>"
      ]
     },
     "metadata": {},
     "output_type": "display_data"
    }
   ],
   "source": [
    "# Övning 5c)\n",
    "import random as rng\n",
    "import matplotlib.pyplot as plt\n",
    "\n",
    "num_six = [1,6]\n",
    "dice_rolls = ()\n",
    "\n",
    "def count_six(dice_rolls):\n",
    "    num_six = []\n",
    "    for _ in range(dice_rolls):\n",
    "        dice = rng.randint(1, 6)\n",
    "        if dice == 6:\n",
    "            num_six.append(dice)\n",
    "    return len(num_six)\n",
    "\n",
    "\n",
    "\n",
    "plt.plot(num_six, '-*')\n",
    "plt.title(\"Probability of six for different number of rolls\")\n",
    "plt.xticks([0,1,2,3,4,5], dice_rolls)\n",
    "plt.xlabel(\"Number of dice rolls\")\n",
    "plt.ylabel(\"Probability\")"
   ]
  }
 ],
 "metadata": {
  "kernelspec": {
   "display_name": ".venv",
   "language": "python",
   "name": "python3"
  },
  "language_info": {
   "codemirror_mode": {
    "name": "ipython",
    "version": 3
   },
   "file_extension": ".py",
   "mimetype": "text/x-python",
   "name": "python",
   "nbconvert_exporter": "python",
   "pygments_lexer": "ipython3",
   "version": "3.12.6"
  }
 },
 "nbformat": 4,
 "nbformat_minor": 2
}
