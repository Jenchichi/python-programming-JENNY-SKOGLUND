{
 "cells": [
  {
   "cell_type": "markdown",
   "metadata": {},
   "source": [
    "## Variabler och Konstanter"
   ]
  },
  {
   "cell_type": "code",
   "execution_count": null,
   "metadata": {},
   "outputs": [],
   "source": [
    "# Varibler = är bitar av minne som innehåller tal. Vi tolkar talen beroende på vilken _typ_ variabeln har.\n",
    "# Konstanter = är \"immutable\", dvs kan inte förändras efter det skapats.\n",
    "# exempel på olika datatyper:\n",
    "a: int = 42\n",
    "b: str = \"Hejsan\"\n",
    "c: list = [2,3,4]\n",
    "\n",
    "# Lists can have different objects in them, aka \"Polytypic lists\"\n",
    "d: list = [\"2\", 3, 2.0]\n",
    "kv: dict = {\"Ada\": 1, \"Lovelock\": 2, \"Einstein\": 3}\n",
    "sm: set = {1,2,3,4}\n",
    "sm2: set = {\"a\", \"b\"}\n",
    "\n",
    "# Sets can also have different types, as long as they can be 'hashed', ie converted to numbers.\n",
    "sm3: set = {\"a\", 1}\n",
    "\n",
    "const = (1,2)\n",
    "const = (1,)"
   ]
  },
  {
   "cell_type": "markdown",
   "metadata": {},
   "source": [
    "## Funktioner"
   ]
  },
  {
   "cell_type": "code",
   "execution_count": null,
   "metadata": {},
   "outputs": [],
   "source": [
    "# Pure function, no side effects, only uses input parameters and predefined operations\n",
    "def my_function(a, b, c=1):\n",
    "    \"\"\"Here there should be a usage text for this function.\"\"\"\n",
    "    return a*b + b\n",
    "\n",
    "def my_proc():\n",
    "    with open(\"somefile\") as file:\n",
    "        return file.readlines()\n",
    "\n",
    "import numpy as np\n",
    "radius = 3.0\n",
    "area = 2 * np.pi * np.power(radius, 2)\n",
    "\n",
    "np.pi = 3\n",
    "print(np.pi)\n"
   ]
  },
  {
   "cell_type": "markdown",
   "metadata": {},
   "source": [
    "## Listor"
   ]
  },
  {
   "cell_type": "code",
   "execution_count": 13,
   "metadata": {},
   "outputs": [
    {
     "name": "stdout",
     "output_type": "stream",
     "text": [
      "g\n"
     ]
    },
    {
     "data": {
      "text/plain": [
       "(10, [0, 1, 2, 3, 4, 5, 6, 7, 8, 9, 10])"
      ]
     },
     "execution_count": 13,
     "metadata": {},
     "output_type": "execute_result"
    }
   ],
   "source": [
    "# Indexering\n",
    "A = [0, 1,2,3,4,5,6,7,8,9,10]\n",
    "S = \"Detta är en sträng\"\n",
    "# Index slicing\n",
    "A[2]\n",
    "A[1:8]\n",
    "S[2]\n",
    "S[1:8]\n",
    "A[1:]\n",
    "S[:5]\n",
    "S[-1]\n",
    "S[-2]\n",
    "print(S[-1])\n",
    "\n",
    "e = A.pop() # När man gör pop på en lista så tar man bort sista elementet. Den beter sig som en stack istället.\n",
    "A.append(e) # Append så lägger vi till sista elementet.\n",
    "e, A"
   ]
  },
  {
   "cell_type": "code",
   "execution_count": 10,
   "metadata": {},
   "outputs": [
    {
     "data": {
      "text/plain": [
       "([0, 4, 16, 36, 64], [0, 4, 16, 36, 64])"
      ]
     },
     "execution_count": 10,
     "metadata": {},
     "output_type": "execute_result"
    }
   ],
   "source": [
    "# List comprehension\n",
    "\n",
    "sqrs = [i**2 for i in range(10) if i % 2 == 0]\n",
    "sqr_list = list()\n",
    "for i in range(10):\n",
    "    if i % 2 == 0:\n",
    "        sqr_list.append(i**2)\n",
    "\n",
    "sqr_list, sqrs"
   ]
  },
  {
   "cell_type": "markdown",
   "metadata": {},
   "source": [
    "## Dictionary"
   ]
  },
  {
   "cell_type": "code",
   "execution_count": 22,
   "metadata": {},
   "outputs": [
    {
     "name": "stdout",
     "output_type": "stream",
     "text": [
      "a 1\n",
      "b 2\n",
      "c 3\n",
      "{'Byron': 'Ada', 'Gödel': 'Kurt', 'Turing': 'Alan', 'Curch': 'Alanzo'}\n",
      "{'Byron': 'Ada', 'Gödel': 'Kurt', 'Turing': 'Alan', 'Curch': 'Alanzo'}\n"
     ]
    }
   ],
   "source": [
    "kv = {\"a\": 1, \"b\": 2, \"c\": 3}\n",
    "# Indexeras med \"Nycklar\"\n",
    "#print(kv[\"a\"])\n",
    "\n",
    "# Man kan loopa över dictionarys så som med listor för att endast få ut \"nycklarna\"\n",
    "#for k in kv:\n",
    "#    print(k)\n",
    "\n",
    "# endast få ut värdet i listan\n",
    "#for k in kv.values():\n",
    "#    print(k)\n",
    "\n",
    "#Iterating dictionaries\n",
    "for k in kv:\n",
    "    print(k, kv[k])\n",
    "A = [\"Ada\", \"Kurt\", \"Alan\", \"Alanzo\"]\n",
    "B = [\"Byron\", \"Gödel\", \"Turing\", \"Curch\"]\n",
    "\n",
    "computer_scientists = {efternamn:fornamn for fornamn, efternamn in zip(A,B)}\n",
    "print(dict(zip(B,A)))\n",
    "print(computer_scientists)\n",
    "\n"
   ]
  }
 ],
 "metadata": {
  "kernelspec": {
   "display_name": "Python 3",
   "language": "python",
   "name": "python3"
  },
  "language_info": {
   "codemirror_mode": {
    "name": "ipython",
    "version": 3
   },
   "file_extension": ".py",
   "mimetype": "text/x-python",
   "name": "python",
   "nbconvert_exporter": "python",
   "pygments_lexer": "ipython3",
   "version": "3.12.6"
  }
 },
 "nbformat": 4,
 "nbformat_minor": 2
}
