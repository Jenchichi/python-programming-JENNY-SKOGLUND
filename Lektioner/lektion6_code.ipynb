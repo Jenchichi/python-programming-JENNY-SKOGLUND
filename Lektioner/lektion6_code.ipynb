{
 "cells": [
  {
   "cell_type": "code",
   "execution_count": null,
   "metadata": {},
   "outputs": [],
   "source": [
    "# Plot data from arrays:\n",
    "import numpy as np\n",
    "import matplotlib.pyplot as plt\n",
    "\n",
    "x = np.linspace(-5, 5, 100)\n",
    "f = np.sin(x)\n",
    "\n",
    "#plotta den här raden\n",
    "plt.figure(dpi = 100)\n",
    "plt.plot(x, f)\n",
    "plt.title(\"sin(x)\")\n",
    "plt.xlabel()"
   ]
  }
 ],
 "metadata": {
  "kernelspec": {
   "display_name": "Python 3",
   "language": "python",
   "name": "python3"
  },
  "language_info": {
   "name": "python",
   "version": "3.12.6"
  }
 },
 "nbformat": 4,
 "nbformat_minor": 2
}
