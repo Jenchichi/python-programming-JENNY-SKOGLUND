{
 "cells": [
  {
   "cell_type": "code",
   "execution_count": null,
   "metadata": {},
   "outputs": [],
   "source": [
    "# Control_flow\n",
    "# Type hint = int eller str. exempel om man vill göra om till en sträng\n",
    "a = 3\n",
    "name = \"My Name\"\n",
    "\n",
    "\n",
    "# if satser, sant eller falskt. Om det är falskt så är det else satsen.\n",
    "f = False\n",
    "s = True\n",
    "\n",
    "if conditional:\n",
    "    statements:\n",
    "    ...\n",
    "else:\n",
    "    statements\n",
    "    ...\n"
   ]
  },
  {
   "cell_type": "code",
   "execution_count": null,
   "metadata": {},
   "outputs": [],
   "source": [
    "# if satser\n",
    "age = int(input(\"Enter your age: \"))\n",
    "age_limit = 15\n",
    "\n",
    "if age >= age_limit:\n",
    "    print(\"Du får se filmen! Välkommen!\")\n",
    "else:\n",
    "    print(\"Åldersgränsen är 15 år, pröva en annan film\")\n"
   ]
  },
  {
   "cell_type": "code",
   "execution_count": 3,
   "metadata": {},
   "outputs": [
    {
     "name": "stdout",
     "output_type": "stream",
     "text": [
      "Odd Number!\n"
     ]
    }
   ],
   "source": [
    "# Modolo (%) \n",
    "# == Kollar om dom verkligen har samma värde. Inte samma sak som if satser.\n",
    "number = 5\n",
    "if number % 2 == 0:\n",
    "    print(\"Even number!\")\n",
    "else:\n",
    "    print(\"Odd Number!\")\n"
   ]
  },
  {
   "cell_type": "code",
   "execution_count": null,
   "metadata": {},
   "outputs": [],
   "source": [
    "weight = float(input(\"Input your weight (kg)\"))\n",
    "if weight < 20:\n",
    "    print(\"Give patient 500mg\")\n",
    "elif weight < 40:\n",
    "    print(\"Give patient 749 mg\")\n",
    "else: \n",
    "    print(\"Give patient 1000mg\")"
   ]
  },
  {
   "cell_type": "code",
   "execution_count": null,
   "metadata": {},
   "outputs": [],
   "source": [
    "a = 3 < 2\n",
    "b = 3 <= 3\n",
    "c = 4 > 2\n",
    "d = 5 >= 4\n",
    "e = 5 == 5\n",
    "f = 5 != 4\n",
    "g = 3 > 2 and 2 > 1\n",
    "h = 3 > 3 or 3 < 2\n",
    "i = not False == True\n",
    "j = not i"
   ]
  },
  {
   "cell_type": "code",
   "execution_count": null,
   "metadata": {},
   "outputs": [],
   "source": [
    "# Loop\n",
    "# While loop, bra att använda när det är ett dynamiskt villkor. \n",
    "\n",
    "# while condition:\n",
    "#    statements\n",
    "#    ....\n",
    "\n",
    "loop = True\n",
    "n = 0\n",
    "while loop:\n",
    "    print(f\"Still True {n}\")\n",
    "    n = n + 2\n",
    "    if n > 10:\n",
    "        loop = False\n"
   ]
  },
  {
   "cell_type": "code",
   "execution_count": 1,
   "metadata": {},
   "outputs": [
    {
     "name": "stdout",
     "output_type": "stream",
     "text": [
      "it takes 0 years for the birds to reach one tenth.\n"
     ]
    }
   ],
   "source": [
    "# Example - oil leakage\n",
    "\n",
    "# There is an oil leakage causing the bird population on an island to halve each year. From the start there were 80000 birds, how many\n",
    "# years does it take until only one tenth are remaining?\n",
    "\n",
    "birds = 80000\n",
    "year = 0\n",
    "\n",
    "while birds > 80000: \n",
    "    print(f\"Year {year}, {birds: .0f} birds\")\n",
    "    birds /= 2\n",
    "    year += 1\n",
    "print(f\"it takes {year} years for the birds to reach one tenth.\")"
   ]
  },
  {
   "cell_type": "code",
   "execution_count": null,
   "metadata": {},
   "outputs": [],
   "source": [
    "# Shorthand assignment operators:\n",
    "\n",
    "= | a = b | a is set to b\n",
    "+= | x += 2 | x = x + 2"
   ]
  },
  {
   "cell_type": "code",
   "execution_count": 2,
   "metadata": {},
   "outputs": [
    {
     "name": "stdout",
     "output_type": "stream",
     "text": [
      "-9 -7 -5 -3 -1 1 3 5 7 9 "
     ]
    }
   ],
   "source": [
    "n = -9\n",
    "\n",
    "while n <= 10:\n",
    "    print(n, end=\" \")\n",
    "    n += 2\n"
   ]
  },
  {
   "cell_type": "code",
   "execution_count": null,
   "metadata": {},
   "outputs": [],
   "source": [
    "import random as rng \n",
    "\n",
    "while True:\n",
    "    number1 = rng.randint(1, 10)\n",
    "    number2 = rng.randint(1, 10)\n",
    "\n",
    "    user_answer = int(input(f\"What is {number1} * {number2}?\"))\n",
    "    if user_answer == number1*number2:\n",
    "        print(\"Correct!\")\n",
    "    else: \n",
    "        print(f\"({user_answer} is wrong!)\")\n",
    "    \n",
    "    play_again = input(\"Want to play again? (y for years)\")\n",
    "    \n",
    "    if play_again != \"y\":\n",
    "        print(\"Good bye!\")\n",
    "        break"
   ]
  },
  {
   "cell_type": "code",
   "execution_count": null,
   "metadata": {},
   "outputs": [],
   "source": [
    "for i in range(10):\n",
    "    print(i)"
   ]
  },
  {
   "cell_type": "code",
   "execution_count": null,
   "metadata": {},
   "outputs": [],
   "source": [
    "ls = [1,2,43,6,4,3,6,4,43]\n",
    "for l in ls:\n",
    "    print(l)"
   ]
  },
  {
   "cell_type": "code",
   "execution_count": null,
   "metadata": {},
   "outputs": [],
   "source": [
    "ds = {\"a\": \"aval\", \"b\": \"bval\", \"c\": \"cval\"}\n",
    "\n",
    "for k, v in ds.items():\n",
    "    print(k, v)\n"
   ]
  },
  {
   "cell_type": "code",
   "execution_count": null,
   "metadata": {},
   "outputs": [],
   "source": [
    "fruits = [\"apple\", \"orange\", \"strawberry\", \"åkerbär\"]\n",
    "\n",
    "for i, f in enumerate(fruits):\n",
    "    print(f\"{i}. {f}\")\n",
    "    "
   ]
  },
  {
   "cell_type": "code",
   "execution_count": null,
   "metadata": {},
   "outputs": [],
   "source": [
    "sum = 0\n",
    "\n",
    "for i in range(1, 20, 2):\n",
    "    sum += i\n",
    "\n",
    "    print(i, end= \"\")\n",
    "    if i != 19:\n",
    "        print(\"+\", end=\"\")\n",
    "    \n",
    "    if i == 19:\n",
    "        print(f\"={sum}\", end=\"\")\n",
    "        "
   ]
  },
  {
   "cell_type": "code",
   "execution_count": null,
   "metadata": {},
   "outputs": [],
   "source": [
    "for x in range(0,3):\n",
    "    for y in range(0,3):\n",
    "        print(f\"({x}, {y})\", end=\"\")\n",
    "    print()"
   ]
  },
  {
   "cell_type": "code",
   "execution_count": null,
   "metadata": {},
   "outputs": [],
   "source": [
    "import random as rng\n",
    "num_sixes = 0\n",
    "dice_rolls = 10000\n",
    "\n",
    "for i in range(dice_rolls):\n",
    "    dice = rng.randint(1,6)\n",
    "    if dice == 6:\n",
    "        num_sixes += 1\n",
    "\n",
    "print(f\"Number of sixes {num_sixes} in {dice_rolls} dice rolls\")\n",
    "print(f\"Probability of six: {num_sixes / dice_rolls}\")\n",
    "\n"
   ]
  },
  {
   "cell_type": "code",
   "execution_count": null,
   "metadata": {},
   "outputs": [],
   "source": [
    "# Listor\n",
    "# Börjar alltid på 0 skriver man ut -1 printas sista ordet i listan \n",
    "# Lägga till något i listan använd .append(\"\")\n",
    "# Kan även skriva ut det som element i printsatsen ex. [1:3]\n",
    "\n"
   ]
  },
  {
   "cell_type": "code",
   "execution_count": 13,
   "metadata": {},
   "outputs": [
    {
     "name": "stdout",
     "output_type": "stream",
     "text": [
      "['alfa', 'beta', 'gamma', 'iota', 'zeta']\n"
     ]
    }
   ],
   "source": [
    "# sortera, anropa en metod i listan ex. greek_letters. välj vad du vill använda i listan\n",
    "# skriver man sort() så sorterar man listan i bokstavsordning\n",
    "# skriver man sorted() så gör man en kopia av listan.\n",
    "greek_letters = [\"beta\", \"alfa\", \"zeta\", \"gamma\", \"iota\"]\n",
    "greek_letters.sort()\n",
    "\n",
    "print(greek_letters)"
   ]
  }
 ],
 "metadata": {
  "kernelspec": {
   "display_name": "Python 3",
   "language": "python",
   "name": "python3"
  },
  "language_info": {
   "codemirror_mode": {
    "name": "ipython",
    "version": 3
   },
   "file_extension": ".py",
   "mimetype": "text/x-python",
   "name": "python",
   "nbconvert_exporter": "python",
   "pygments_lexer": "ipython3",
   "version": "3.12.3"
  }
 },
 "nbformat": 4,
 "nbformat_minor": 2
}
